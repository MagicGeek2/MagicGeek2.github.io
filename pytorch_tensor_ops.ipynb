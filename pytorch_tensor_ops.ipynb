{
 "cells": [
  {
   "cell_type": "code",
   "execution_count": 13,
   "source": [
    "import torch"
   ],
   "outputs": [],
   "metadata": {}
  },
  {
   "cell_type": "code",
   "execution_count": 15,
   "source": [
    "x = torch.rand(3,3)\r\n",
    "x"
   ],
   "outputs": [
    {
     "output_type": "execute_result",
     "data": {
      "text/plain": [
       "tensor([[0.1763, 0.9439, 0.9882],\n",
       "        [0.6122, 0.1978, 0.0414],\n",
       "        [0.8799, 0.2213, 0.8035]])"
      ]
     },
     "metadata": {},
     "execution_count": 15
    }
   ],
   "metadata": {}
  },
  {
   "cell_type": "markdown",
   "source": [
    "## 输出tensor的各种属性"
   ],
   "metadata": {}
  },
  {
   "cell_type": "code",
   "execution_count": 22,
   "source": [
    "\r\n",
    "print(x.device)\r\n",
    "print(x.dtype)\r\n",
    "print(x.data)\r\n",
    "print(x.grad)\r\n",
    "print(x.ndim)"
   ],
   "outputs": [
    {
     "output_type": "stream",
     "name": "stdout",
     "text": [
      "cpu\n",
      "torch.float32\n",
      "tensor([[0.1763, 0.9439, 0.9882],\n",
      "        [0.6122, 0.1978, 0.0414],\n",
      "        [0.8799, 0.2213, 0.8035]])\n",
      "None\n",
      "2\n"
     ]
    }
   ],
   "metadata": {}
  },
  {
   "cell_type": "markdown",
   "source": [
    "## tensor 的存储布局\r\n",
    "\r\n",
    "在内存中， tensor 是按照一维数组的形式存储的。在执行 view 的时候，按照一定的格式呈现给使用者。比如创建一个 (3,4,2) 的 tensor, 内存中就会开辟一个能够存储 $3*4*2$ = 24 个 value 的数组。 使用 stride 控制 tensor 访问时的数据分配。 (3,4,2) 的 tensor 要想正常呈现， 需要有 (4*2, 2, 1) 的 stride. stride 值得是每一个维度相邻元素之间的间隔。 (3,4,2) 的 x, x[i][j][k] 和 x[i+1][j][k] 之间相差就有 8 个元素， 而 x[i][j][k] 和 x[i][j+1][k] 之间相差只有 2 个元素。"
   ],
   "metadata": {}
  },
  {
   "cell_type": "code",
   "execution_count": 24,
   "source": [
    "print(x)\r\n",
    "# 因为 stride 设置成 (1, 2) 所以\r\n",
    "print(torch.as_strided(x, (2, 2), (1, 2)))\r\n",
    "print(torch.as_strided(x, (2, 2), (1, 2), 1))\r\n"
   ],
   "outputs": [
    {
     "output_type": "stream",
     "name": "stdout",
     "text": [
      "tensor([[0.1763, 0.9439, 0.9882],\n",
      "        [0.6122, 0.1978, 0.0414],\n",
      "        [0.8799, 0.2213, 0.8035]])\n",
      "tensor([[0.1763, 0.9882],\n",
      "        [0.9439, 0.6122]])\n",
      "tensor([[0.9439, 0.6122],\n",
      "        [0.9882, 0.1978]])\n"
     ]
    }
   ],
   "metadata": {}
  },
  {
   "cell_type": "markdown",
   "source": [],
   "metadata": {}
  }
 ],
 "metadata": {
  "orig_nbformat": 4,
  "language_info": {
   "name": "python"
  }
 },
 "nbformat": 4,
 "nbformat_minor": 2
}
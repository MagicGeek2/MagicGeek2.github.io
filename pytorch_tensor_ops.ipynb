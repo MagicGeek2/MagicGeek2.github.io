{
 "cells": [
  {
   "cell_type": "code",
   "execution_count": 1,
   "source": [
    "import torch"
   ],
   "outputs": [],
   "metadata": {}
  },
  {
   "cell_type": "markdown",
   "source": [
    "## create sparse tensor"
   ],
   "metadata": {}
  },
  {
   "cell_type": "code",
   "execution_count": 2,
   "source": [
    "indices = [[0,2], [1,0], [1,2]]\r\n",
    "values = [3,4,5]\r\n",
    "x = torch.sparse_coo_tensor(torch.tensor(indices).T, values, size=(2,3))\r\n",
    "print(x)\r\n",
    "print(x.to_dense())"
   ],
   "outputs": [
    {
     "output_type": "stream",
     "name": "stdout",
     "text": [
      "tensor(indices=tensor([[0, 1, 1],\n",
      "                       [2, 0, 2]]),\n",
      "       values=tensor([3, 4, 5]),\n",
      "       size=(2, 3), nnz=3, layout=torch.sparse_coo)\n",
      "tensor([[0, 0, 3],\n",
      "        [4, 0, 5]])\n"
     ]
    }
   ],
   "metadata": {}
  },
  {
   "cell_type": "markdown",
   "source": [
    "## create sequences"
   ],
   "metadata": {}
  },
  {
   "cell_type": "code",
   "execution_count": 9,
   "source": [
    "print(torch.arange(start=1, end=4, step=0.5))\r\n",
    "# torch.range() will be deprecated\r\n",
    "# print(torch.range(start=1, end=4, step=0.5))\r\n",
    "print(torch.linspace(start=3, end=10, steps=5))\r\n",
    "print(torch.logspace(start=-10, end=10, steps=5))\r\n",
    "print(torch.logspace(start=0, end=4, steps=5, base=2))"
   ],
   "outputs": [
    {
     "output_type": "stream",
     "name": "stdout",
     "text": [
      "tensor([1.0000, 1.5000, 2.0000, 2.5000, 3.0000, 3.5000])\n",
      "tensor([ 3.0000,  4.7500,  6.5000,  8.2500, 10.0000])\n",
      "tensor([1.0000e-10, 1.0000e-05, 1.0000e+00, 1.0000e+05, 1.0000e+10])\n",
      "tensor([ 1.,  2.,  4.,  8., 16.])\n"
     ]
    }
   ],
   "metadata": {}
  },
  {
   "cell_type": "markdown",
   "source": [
    "## 值填充"
   ],
   "metadata": {}
  },
  {
   "cell_type": "code",
   "execution_count": 11,
   "source": [
    "torch.full(size=(2, 3), fill_value=3.14)"
   ],
   "outputs": [
    {
     "output_type": "execute_result",
     "data": {
      "text/plain": [
       "tensor([[3.1400, 3.1400, 3.1400],\n",
       "        [3.1400, 3.1400, 3.1400]])"
      ]
     },
     "metadata": {},
     "execution_count": 11
    }
   ],
   "metadata": {}
  },
  {
   "cell_type": "markdown",
   "source": [
    "## Indexing, Slicing, Joining, Mutating Ops"
   ],
   "metadata": {}
  },
  {
   "cell_type": "code",
   "execution_count": 13,
   "source": [
    "x = torch.rand(3,3)\r\n",
    "y = torch.rand(3,3)\r\n",
    "print(x)\r\n",
    "print(y)"
   ],
   "outputs": [
    {
     "output_type": "stream",
     "name": "stdout",
     "text": [
      "tensor([[0.4725, 0.1082, 0.6939],\n",
      "        [0.1298, 0.0333, 0.1883],\n",
      "        [0.2985, 0.6423, 0.9982]])\n",
      "tensor([[0.8655, 0.2275, 0.0999],\n",
      "        [0.9105, 0.6720, 0.2437],\n",
      "        [0.2535, 0.1020, 0.5348]])\n"
     ]
    }
   ],
   "metadata": {}
  },
  {
   "cell_type": "code",
   "execution_count": 14,
   "source": [
    "z = torch.cat((x, y), dim=0)\r\n",
    "print(z)\r\n",
    "z = torch.cat((x, y), dim=1)\r\n",
    "print(z)"
   ],
   "outputs": [
    {
     "output_type": "stream",
     "name": "stdout",
     "text": [
      "tensor([[0.4725, 0.1082, 0.6939],\n",
      "        [0.1298, 0.0333, 0.1883],\n",
      "        [0.2985, 0.6423, 0.9982],\n",
      "        [0.8655, 0.2275, 0.0999],\n",
      "        [0.9105, 0.6720, 0.2437],\n",
      "        [0.2535, 0.1020, 0.5348]])\n",
      "tensor([[0.4725, 0.1082, 0.6939, 0.8655, 0.2275, 0.0999],\n",
      "        [0.1298, 0.0333, 0.1883, 0.9105, 0.6720, 0.2437],\n",
      "        [0.2985, 0.6423, 0.9982, 0.2535, 0.1020, 0.5348]])\n"
     ]
    }
   ],
   "metadata": {}
  },
  {
   "cell_type": "code",
   "execution_count": 21,
   "source": [
    "print(torch.chunk(x, 3, 1))\r\n",
    "print(torch.chunk(x, 2, 0))"
   ],
   "outputs": [
    {
     "output_type": "stream",
     "name": "stdout",
     "text": [
      "(tensor([[0.4725],\n",
      "        [0.1298],\n",
      "        [0.2985]]), tensor([[0.1082],\n",
      "        [0.0333],\n",
      "        [0.6423]]), tensor([[0.6939],\n",
      "        [0.1883],\n",
      "        [0.9982]]))\n",
      "(tensor([[0.4725, 0.1082, 0.6939],\n",
      "        [0.1298, 0.0333, 0.1883]]), tensor([[0.2985, 0.6423, 0.9982]]))\n"
     ]
    }
   ],
   "metadata": {}
  },
  {
   "cell_type": "code",
   "execution_count": 26,
   "source": [
    "x = torch.rand(3, 6)\r\n",
    "x"
   ],
   "outputs": [
    {
     "output_type": "execute_result",
     "data": {
      "text/plain": [
       "tensor([[0.6278, 0.4093, 0.9885, 0.1225, 0.4257, 0.2982],\n",
       "        [0.1549, 0.7886, 0.9943, 0.0656, 0.6208, 0.4432],\n",
       "        [0.9040, 0.4780, 0.3560, 0.4858, 0.2787, 0.4405]])"
      ]
     },
     "metadata": {},
     "execution_count": 26
    }
   ],
   "metadata": {}
  },
  {
   "cell_type": "code",
   "execution_count": 30,
   "source": [
    "print(torch.tensor_split(x, 3, dim=1))\r\n",
    "print(torch.tensor_split(x, 3, dim=0))\r\n",
    "print(torch.tensor_split(x, [1,4], dim=1))"
   ],
   "outputs": [
    {
     "output_type": "stream",
     "name": "stdout",
     "text": [
      "(tensor([[0.6278, 0.4093],\n",
      "        [0.1549, 0.7886],\n",
      "        [0.9040, 0.4780]]), tensor([[0.9885, 0.1225],\n",
      "        [0.9943, 0.0656],\n",
      "        [0.3560, 0.4858]]), tensor([[0.4257, 0.2982],\n",
      "        [0.6208, 0.4432],\n",
      "        [0.2787, 0.4405]]))\n",
      "(tensor([[0.6278, 0.4093, 0.9885, 0.1225, 0.4257, 0.2982]]), tensor([[0.1549, 0.7886, 0.9943, 0.0656, 0.6208, 0.4432]]), tensor([[0.9040, 0.4780, 0.3560, 0.4858, 0.2787, 0.4405]]))\n",
      "(tensor([[0.6278],\n",
      "        [0.1549],\n",
      "        [0.9040]]), tensor([[0.4093, 0.9885, 0.1225],\n",
      "        [0.7886, 0.9943, 0.0656],\n",
      "        [0.4780, 0.3560, 0.4858]]), tensor([[0.4257, 0.2982],\n",
      "        [0.6208, 0.4432],\n",
      "        [0.2787, 0.4405]]))\n"
     ]
    }
   ],
   "metadata": {}
  }
 ],
 "metadata": {
  "orig_nbformat": 4,
  "language_info": {
   "name": "python"
  }
 },
 "nbformat": 4,
 "nbformat_minor": 2
}